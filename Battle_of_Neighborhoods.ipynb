{
 "cells": [
  {
   "cell_type": "markdown",
   "metadata": {},
   "source": [
    "# Cousera Capstone Project - The Battle of Neighborhoods (Week 1)"
   ]
  },
  {
   "cell_type": "markdown",
   "metadata": {},
   "source": [
    "---\n",
    "## 1. Problem Statement"
   ]
  },
  {
   "cell_type": "markdown",
   "metadata": {},
   "source": [
    "In this project I will try to idetify locations in **Bangalore, India** which would be optimal to open a **French Restaurant**."
   ]
  },
  {
   "cell_type": "markdown",
   "metadata": {},
   "source": [
    "This project will be beneficial to all the **stakeholders** who wants to open a **New French Restaurant** in the city of **Bangalore, India**. As in this project I will try to identify all the **locations** which will be optimal to open a **French Restaurant** and the locations which are less crowded with restuarent especially **French Restaurant**."
   ]
  },
  {
   "cell_type": "markdown",
   "metadata": {},
   "source": [
    "**Bangalore** is the fastest growing city of **Asia** and is the **Fifth largest city in India**, **Bangalore** is the Silicon Valley of India and thus boost a population which lies in the age group of **20-45 years**. **Bangalore** has a high density of Restaurant, through this project I will try to identify locations which has low density of Restaurants and also I will try to identify locations which has high potential for opening a French Restuarant.\n",
    "\n",
    "The **criterion** to choose the location for the Restaurant will be:\n",
    "* The density or number of restaurants in a Neighborhood\n",
    "* The type of restaurants in a Neighborhood\n",
    "* The distance of the nearest French Restuarant from the Neighborhood\n",
    "* Location of the Neighborhood (to determine the afforadability and accesibilty)"
   ]
  },
  {
   "cell_type": "markdown",
   "metadata": {},
   "source": [
    "---\n",
    "## 2. Data Requirement"
   ]
  },
  {
   "cell_type": "markdown",
   "metadata": {},
   "source": [
    "Data's that I will require for this project are:\n",
    "* Location data of Bangalore, India \n",
    "* Location data of the Neighborhoods of Bangalore\n",
    "* Number of restuarants in a Neighborhoods\n",
    "* The type of restuarant in a Neighborhoods"
   ]
  },
  {
   "cell_type": "markdown",
   "metadata": {},
   "source": [
    " The locations data will be obtained using **Google Maps API geocoding** \\\n",
    " Restuarant data will be obtained using **Foursquare API**"
   ]
  },
  {
   "cell_type": "markdown",
   "metadata": {},
   "source": [
    "The above data's will help me to determine the optimal locations for opening a restuarant in **Bangalore** and recommend locations to open a **French Restuarant** to potential stakeholders."
   ]
  }
 ],
 "metadata": {
  "kernelspec": {
   "display_name": "Python 3",
   "language": "python",
   "name": "python3"
  },
  "language_info": {
   "codemirror_mode": {
    "name": "ipython",
    "version": 3
   },
   "file_extension": ".py",
   "mimetype": "text/x-python",
   "name": "python",
   "nbconvert_exporter": "python",
   "pygments_lexer": "ipython3",
   "version": "3.7.6"
  }
 },
 "nbformat": 4,
 "nbformat_minor": 4
}
